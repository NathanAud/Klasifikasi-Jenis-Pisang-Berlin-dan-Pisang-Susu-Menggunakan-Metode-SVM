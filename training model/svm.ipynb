{
 "cells": [
  {
   "cell_type": "code",
   "execution_count": 110,
   "metadata": {},
   "outputs": [],
   "source": [
    "import matplotlib.pyplot as plt\n",
    "import pandas as pd\n",
    "from sklearn.preprocessing import StandardScaler\n",
    "from sklearn.decomposition import PCA\n",
    "from sklearn.model_selection import GridSearchCV, cross_val_score, StratifiedKFold\n",
    "from sklearn.svm import SVC\n",
    "from micromlgen import port\n",
    "from sklearn.metrics import confusion_matrix, ConfusionMatrixDisplay"
   ]
  },
  {
   "cell_type": "code",
   "execution_count": 111,
   "metadata": {},
   "outputs": [
    {
     "name": "stdout",
     "output_type": "stream",
     "text": [
      "   red  green  blue  weigth  length  jenis\n",
      "0   14     23    33   51.11   10.35      1\n",
      "1   60     96   153   53.97   11.45      0\n",
      "2   38     64   104   53.11   10.54      0\n",
      "3   11     16    28   45.32   10.90      0\n",
      "4   26     43    64   61.72   11.19      0\n",
      "<class 'pandas.core.frame.DataFrame'>\n",
      "RangeIndex: 27 entries, 0 to 26\n",
      "Data columns (total 6 columns):\n",
      " #   Column  Non-Null Count  Dtype  \n",
      "---  ------  --------------  -----  \n",
      " 0   red     27 non-null     int64  \n",
      " 1   green   27 non-null     int64  \n",
      " 2   blue    27 non-null     int64  \n",
      " 3   weigth  27 non-null     float64\n",
      " 4   length  27 non-null     float64\n",
      " 5   jenis   27 non-null     int64  \n",
      "dtypes: float64(2), int64(4)\n",
      "memory usage: 1.4 KB\n",
      "None\n"
     ]
    }
   ],
   "source": [
    "# import dataset dari CSV menjadi dataframe pandas\n",
    "\n",
    "df = pd.read_csv('dataset.csv')\n",
    "print(df.head())\n",
    "print(df.info())"
   ]
  },
  {
   "cell_type": "code",
   "execution_count": 112,
   "metadata": {},
   "outputs": [],
   "source": [
    "# memisahkan dataset atribut dan label\n",
    "\n",
    "NUM_OF_FEATURES = 5\n",
    "X = df[df.columns[:NUM_OF_FEATURES]]\n",
    "y = df['jenis']"
   ]
  },
  {
   "cell_type": "code",
   "execution_count": 113,
   "metadata": {},
   "outputs": [
    {
     "name": "stdout",
     "output_type": "stream",
     "text": [
      "    red  green  blue  weigth  length\n",
      "0    14     23    33   51.11   10.35\n",
      "1    60     96   153   53.97   11.45\n",
      "2    38     64   104   53.11   10.54\n",
      "3    11     16    28   45.32   10.90\n",
      "4    26     43    64   61.72   11.19\n",
      "5    10     15    27   44.05   11.14\n",
      "6    28     46    68   53.20   11.30\n",
      "7    24     40    64   45.32   10.38\n",
      "8    33     53    93   49.72   10.90\n",
      "9    10     15    26   54.82   11.24\n",
      "10   20     32    55   51.44   11.00\n",
      "11   36     63    95   42.86    9.49\n",
      "12   33     56    89   55.05   10.54\n",
      "13   18     29    43   63.94    9.78\n",
      "14   18     28    40   47.50    9.88\n",
      "15   13     22    32   50.40    9.12\n",
      "16   14     23    34   55.50   10.64\n",
      "17   16     28    40   43.99    9.59\n",
      "18   13     20    33   57.00   10.47\n",
      "19   13     20    28   50.93    9.83\n",
      "20   17     29    40   60.17    9.54\n",
      "21   13     22    33   56.77   10.43\n",
      "22   13     20    34   54.11    9.33\n",
      "23   18     29    43   46.98    9.33\n",
      "24   11     18    29   57.12    9.95\n",
      "25   13     20    30   55.15   10.59\n",
      "26   21     36    52   48.92    9.38\n"
     ]
    }
   ],
   "source": [
    "print(X)"
   ]
  },
  {
   "cell_type": "code",
   "execution_count": 114,
   "metadata": {},
   "outputs": [],
   "source": [
    "# standardisasi nilai-nilai dataset\n",
    "\n",
    "scaler = StandardScaler()\n",
    "scaler.fit(X)\n",
    "X = scaler.transform(X)"
   ]
  },
  {
   "cell_type": "code",
   "execution_count": 115,
   "metadata": {},
   "outputs": [
    {
     "name": "stdout",
     "output_type": "stream",
     "text": [
      "20.51851851851852, 33.55555555555556, 52.22222222222222, 52.22851851851852, 10.306666666666665, \n",
      "11.209686189714647, 18.714884813437855, 30.15187892104132, 5.41559319530783, 0.6920393908720215, "
     ]
    }
   ],
   "source": [
    "# print mean dan std. deviasi untuk standardisasi di alat\n",
    "\n",
    "for i in scaler.mean_:\n",
    "    print(f'{i}, ', end='')\n",
    "print()\n",
    "for i in scaler.scale_:\n",
    "    print(f'{i}, ', end='')"
   ]
  },
  {
   "cell_type": "code",
   "execution_count": 116,
   "metadata": {},
   "outputs": [
    {
     "data": {
      "text/plain": [
       "array([6.21507193e-01, 2.22005625e-01, 1.54842411e-01, 1.22728809e-03,\n",
       "       4.17483233e-04])"
      ]
     },
     "execution_count": 116,
     "metadata": {},
     "output_type": "execute_result"
    }
   ],
   "source": [
    "# melihat variansi dari setiap atribut\n",
    "\n",
    "pca = PCA(n_components=NUM_OF_FEATURES)\n",
    "pca.fit(X)\n",
    "pca.explained_variance_ratio_"
   ]
  },
  {
   "cell_type": "code",
   "execution_count": 117,
   "metadata": {},
   "outputs": [
    {
     "name": "stdout",
     "output_type": "stream",
     "text": [
      "[[-0.98578776  0.00773354]\n",
      " [ 6.10824565 -0.46107163]\n",
      " [ 2.83132488  0.02822752]\n",
      " [-1.24690063  0.38111999]\n",
      " [ 1.05352199 -2.05082069]\n",
      " [-1.26399756  0.36752071]\n",
      " [ 1.36981418 -0.81592939]\n",
      " [ 0.62402264  1.06168346]\n",
      " [ 2.17092603  0.1489402 ]\n",
      " [-1.26851932 -1.34627342]\n",
      " [ 0.2102873  -0.44384394]\n",
      " [ 2.20323968  2.39216514]\n",
      " [ 2.0573642  -0.36282749]\n",
      " [-0.62999295 -1.40353829]\n",
      " [-0.65390415  0.99388683]\n",
      " [-1.4906149   1.0956528 ]\n",
      " [-0.87880871 -0.88881957]\n",
      " [-0.84416406  1.74863065]\n",
      " [-1.09636701 -1.00016557]\n",
      " [-1.39100216  0.42427876]\n",
      " [-0.8090739  -0.6510973 ]\n",
      " [-1.04937909 -0.92388134]\n",
      " [-1.45007633  0.35969481]\n",
      " [-0.74914968  1.52779589]\n",
      " [-1.50372138 -0.62761762]\n",
      " [-1.10941782 -0.8235906 ]\n",
      " [-0.20786915  1.26214653]]\n"
     ]
    },
    {
     "data": {
      "text/plain": [
       "array([0.62150719, 0.22200562])"
      ]
     },
     "execution_count": 117,
     "metadata": {},
     "output_type": "execute_result"
    }
   ],
   "source": [
    "# reduksi dimensi dengan PCA\n",
    "\n",
    "pca = PCA(n_components=2)\n",
    "X = pca.fit_transform(X)\n",
    "print(X)\n",
    "pca.explained_variance_ratio_"
   ]
  },
  {
   "cell_type": "code",
   "execution_count": 118,
   "metadata": {},
   "outputs": [
    {
     "name": "stdout",
     "output_type": "stream",
     "text": [
      "SVC(C=0.1, gamma=0.001, kernel='linear')\n",
      "Accuracy: 82.67%\n"
     ]
    }
   ],
   "source": [
    "# mencari hyperparameter terbaik untuk model SVM menggunakan GridSearchCV\n",
    "\n",
    "strat_k_fold = StratifiedKFold(n_splits=5, shuffle=True, random_state=42)\n",
    "svc = SVC()\n",
    "clf = GridSearchCV(svc, {'kernel':('linear', 'poly', 'sigmoid', 'rbf'),\n",
    "                         'C': [0.01, 0.1, 1, 10, 100],\n",
    "                         'gamma': [0.001]},\n",
    "                   cv=strat_k_fold)\n",
    "clf.fit(X, y)\n",
    "\n",
    "print(clf.best_estimator_)\n",
    "scores = cross_val_score(clf.best_estimator_, X, y, cv=strat_k_fold)\n",
    "print(f\"Accuracy: {scores.mean()*100:0.2f}%\")"
   ]
  },
  {
   "cell_type": "code",
   "execution_count": 119,
   "metadata": {},
   "outputs": [
    {
     "data": {
      "text/plain": [
       "<sklearn.metrics._plot.confusion_matrix.ConfusionMatrixDisplay at 0x2cb27daf100>"
      ]
     },
     "execution_count": 119,
     "metadata": {},
     "output_type": "execute_result"
    },
    {
     "data": {
      "image/png": "[encoded data removed]",
      "text/plain": [
       "<Figure size 640x480 with 2 Axes>"
      ]
     },
     "metadata": {},
     "output_type": "display_data"
    }
   ],
   "source": [
    "predictions = clf.best_estimator_.predict(X)\n",
    "cm = confusion_matrix(y, predictions, labels=clf.classes_)\n",
    "disp = ConfusionMatrixDisplay(confusion_matrix=cm,\n",
    "                               display_labels=clf.classes_)\n",
    "disp.plot()"
   ]
  },
  {
   "cell_type": "code",
   "execution_count": 120,
   "metadata": {},
   "outputs": [],
   "source": [
    "# port PCA dan SVM ke C++\n",
    "\n",
    "with open('pca.h', 'w') as f:\n",
    "    f.write(port(pca))\n",
    "\n",
    "with open('svm.h', 'w') as f:\n",
    "    f.write(port(clf.best_estimator_, classmap={0: 'susu',\n",
    "                                                1: 'berlin'}))"
   ]
  }
 ],
 "metadata": {
  "kernelspec": {
   "display_name": "Python 3.10.8 ('sispengpol')",
   "language": "python",
   "name": "python3"
  },
  "language_info": {
   "codemirror_mode": {
    "name": "ipython",
    "version": 3
   },
   "file_extension": ".py",
   "mimetype": "text/x-python",
   "name": "python",
   "nbconvert_exporter": "python",
   "pygments_lexer": "ipython3",
   "version": "3.10.8 | packaged by conda-forge | (main, Nov 24 2022, 14:07:00) [MSC v.1916 64 bit (AMD64)]"
  },
  "orig_nbformat": 4,
  "vscode": {
   "interpreter": {
    "hash": "a22d714414b96401b6e2e8b6c4d7074f26383c080ff5f387066e3a9321d06400"
   }
  }
 },
 "nbformat": 4,
 "nbformat_minor": 2
}
